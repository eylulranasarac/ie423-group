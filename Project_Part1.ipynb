{
 "cells": [
  {
   "cell_type": "code",
   "execution_count": null,
   "id": "ecdd33fc",
   "metadata": {},
   "outputs": [],
   "source": [
    "import pandas as pd\n",
    "from matplotlib import pyplot as plt"
   ]
  },
  {
   "cell_type": "code",
   "execution_count": null,
   "id": "28a5adf9",
   "metadata": {},
   "outputs": [],
   "source": [
    "df_w = pd.read_csv(\"all_ticks_wide.csv\")\n",
    "df_l = pd.read_csv(\"all_ticks_long.csv\")\n",
    "df_w[\"timestamp\"] = pd.to_datetime(df_w[\"timestamp\"])\n",
    "df_w = df_w.sort_values(by=\"timestamp\")"
   ]
  },
  {
   "cell_type": "markdown",
   "id": "4e9fc580",
   "metadata": {},
   "source": [
    "We created the function Is_Null() which takes a dataframe as input, then returns \"True\" if the dataframe has null values, \"False\" otherwise. "
   ]
  },
  {
   "cell_type": "code",
   "execution_count": null,
   "id": "28814d6a",
   "metadata": {},
   "outputs": [],
   "source": [
    "def Is_Null(df):\n",
    "    if df.isnull().astype(int).iloc[:,1].sum() > 0:\n",
    "        return True\n",
    "    else:\n",
    "        return False"
   ]
  },
  {
   "cell_type": "markdown",
   "id": "cc11f381",
   "metadata": {},
   "source": [
    "Then, we created another function Find_Outliers() which takes a dataframe and returns the outliers if the dataframe doesn't have any null values."
   ]
  },
  {
   "cell_type": "code",
   "execution_count": null,
   "id": "eb3c63ba",
   "metadata": {},
   "outputs": [],
   "source": [
    "def Find_Outliers(df):\n",
    "        mean = df.iloc[:,1].mean()\n",
    "        std = df.iloc[:,1].std()\n",
    "        upper_limit = mean + 3*std\n",
    "        lower_limit = mean - 3*std\n",
    "        smaller_outliers = df[df.iloc[:,1] < lower_limit]\n",
    "        larger_outliers = df[df.iloc[:,1] > upper_limit]\n",
    "        outliers = {\"smaller_outliers\" : smaller_outliers, \"larger_outliers\" : larger_outliers }\n",
    "        \n",
    "        return outliers"
   ]
  },
  {
   "cell_type": "markdown",
   "id": "e69d99fc",
   "metadata": {},
   "source": [
    "Lastly, we created the function df_Monthly() which takes a dataframe and a key indicating the year and the month key = (year,month), and returns a new dataframe consisting of the values in the original dataframe in that certain month of the year."
   ]
  },
  {
   "cell_type": "code",
   "execution_count": null,
   "id": "c869701e",
   "metadata": {},
   "outputs": [],
   "source": [
    "def df_Monthly(df, key):\n",
    "    df_Monthly_dictionary = {}\n",
    "    df[\"timestamp\"] = pd.to_datetime(df[\"timestamp\"])\n",
    "    df_yearly = df[\"timestamp\"].dt.year\n",
    "    for i in range(2012,2020):\n",
    "        df_current_year = df.loc[df_yearly == i]\n",
    "        df_current_year_monthly = df_current_year[\"timestamp\"].dt.month\n",
    "        for k in range(1,13):\n",
    "             df_Monthly_dictionary[i,k] = df_current_year.loc[df_current_year_monthly == k]\n",
    "    \n",
    "    return df_Monthly_dictionary.get(key)"
   ]
  },
  {
   "cell_type": "code",
   "execution_count": 59,
   "id": "e0fdf210",
   "metadata": {
    "collapsed": true
   },
   "outputs": [
    {
     "name": "stdout",
     "output_type": "stream",
     "text": [
      "{'smaller_outliers': Empty DataFrame\n",
      "Columns: [timestamp, EREGL]\n",
      "Index: [], 'larger_outliers': Empty DataFrame\n",
      "Columns: [timestamp, EREGL]\n",
      "Index: []}\n",
      "{'smaller_outliers':                       timestamp   EREGL\n",
      "30681 2017-02-10 14:30:00+00:00  4.1166\n",
      "30682 2017-02-10 14:45:00+00:00  4.0873, 'larger_outliers': Empty DataFrame\n",
      "Columns: [timestamp, EREGL]\n",
      "Index: []}\n",
      "{'smaller_outliers': Empty DataFrame\n",
      "Columns: [timestamp, EREGL]\n",
      "Index: [], 'larger_outliers': Empty DataFrame\n",
      "Columns: [timestamp, EREGL]\n",
      "Index: []}\n",
      "{'smaller_outliers': Empty DataFrame\n",
      "Columns: [timestamp, EREGL]\n",
      "Index: [], 'larger_outliers': Empty DataFrame\n",
      "Columns: [timestamp, EREGL]\n",
      "Index: []}\n",
      "{'smaller_outliers': Empty DataFrame\n",
      "Columns: [timestamp, EREGL]\n",
      "Index: [], 'larger_outliers': Empty DataFrame\n",
      "Columns: [timestamp, EREGL]\n",
      "Index: []}\n",
      "{'smaller_outliers': Empty DataFrame\n",
      "Columns: [timestamp, EREGL]\n",
      "Index: [], 'larger_outliers':                       timestamp   EREGL\n",
      "33655 2017-06-29 11:00:00+00:00  5.5614\n",
      "33656 2017-06-29 11:15:00+00:00  5.5535\n",
      "33699 2017-06-30 14:15:00+00:00  5.5535\n",
      "33700 2017-06-30 14:30:00+00:00  5.5771\n",
      "33701 2017-06-30 14:45:00+00:00  5.5850\n",
      "33702 2017-06-30 15:00:00+00:00  5.5535}\n",
      "{'smaller_outliers': Empty DataFrame\n",
      "Columns: [timestamp, EREGL]\n",
      "Index: [], 'larger_outliers': Empty DataFrame\n",
      "Columns: [timestamp, EREGL]\n",
      "Index: []}\n",
      "{'smaller_outliers': Empty DataFrame\n",
      "Columns: [timestamp, EREGL]\n",
      "Index: [], 'larger_outliers': Empty DataFrame\n",
      "Columns: [timestamp, EREGL]\n",
      "Index: []}\n",
      "{'smaller_outliers': Empty DataFrame\n",
      "Columns: [timestamp, EREGL]\n",
      "Index: [], 'larger_outliers': Empty DataFrame\n",
      "Columns: [timestamp, EREGL]\n",
      "Index: []}\n",
      "{'smaller_outliers': Empty DataFrame\n",
      "Columns: [timestamp, EREGL]\n",
      "Index: [], 'larger_outliers': Empty DataFrame\n",
      "Columns: [timestamp, EREGL]\n",
      "Index: []}\n",
      "{'smaller_outliers': Empty DataFrame\n",
      "Columns: [timestamp, EREGL]\n",
      "Index: [], 'larger_outliers': Empty DataFrame\n",
      "Columns: [timestamp, EREGL]\n",
      "Index: []}\n",
      "{'smaller_outliers': Empty DataFrame\n",
      "Columns: [timestamp, EREGL]\n",
      "Index: [], 'larger_outliers': Empty DataFrame\n",
      "Columns: [timestamp, EREGL]\n",
      "Index: []}\n",
      "{'smaller_outliers': Empty DataFrame\n",
      "Columns: [timestamp, EREGL]\n",
      "Index: [], 'larger_outliers':                       timestamp   EREGL\n",
      "37721 2018-01-03 07:45:00+00:00  8.3263\n",
      "37722 2018-01-03 08:00:00+00:00  8.2633\n",
      "37723 2018-01-03 08:15:00+00:00  8.2554\n",
      "37724 2018-01-03 08:30:00+00:00  8.2790\n",
      "37725 2018-01-03 08:45:00+00:00  8.2790\n",
      "37726 2018-01-03 09:00:00+00:00  8.2476\n",
      "37727 2018-01-03 09:15:00+00:00  8.2711\n",
      "37729 2018-01-03 09:45:00+00:00  8.2790\n",
      "37730 2018-01-03 10:00:00+00:00  8.2790\n",
      "37731 2018-01-03 10:45:00+00:00  8.2790\n",
      "37732 2018-01-03 11:00:00+00:00  8.2476}\n",
      "{'smaller_outliers': Empty DataFrame\n",
      "Columns: [timestamp, EREGL]\n",
      "Index: [], 'larger_outliers': Empty DataFrame\n",
      "Columns: [timestamp, EREGL]\n",
      "Index: []}\n",
      "{'smaller_outliers': Empty DataFrame\n",
      "Columns: [timestamp, EREGL]\n",
      "Index: [], 'larger_outliers': Empty DataFrame\n",
      "Columns: [timestamp, EREGL]\n",
      "Index: []}\n",
      "{'smaller_outliers': Empty DataFrame\n",
      "Columns: [timestamp, EREGL]\n",
      "Index: [], 'larger_outliers': Empty DataFrame\n",
      "Columns: [timestamp, EREGL]\n",
      "Index: []}\n",
      "{'smaller_outliers': Empty DataFrame\n",
      "Columns: [timestamp, EREGL]\n",
      "Index: [], 'larger_outliers': Empty DataFrame\n",
      "Columns: [timestamp, EREGL]\n",
      "Index: []}\n",
      "{'smaller_outliers': Empty DataFrame\n",
      "Columns: [timestamp, EREGL]\n",
      "Index: [], 'larger_outliers': Empty DataFrame\n",
      "Columns: [timestamp, EREGL]\n",
      "Index: []}\n",
      "{'smaller_outliers': Empty DataFrame\n",
      "Columns: [timestamp, EREGL]\n",
      "Index: [], 'larger_outliers': Empty DataFrame\n",
      "Columns: [timestamp, EREGL]\n",
      "Index: []}\n",
      "{'smaller_outliers': Empty DataFrame\n",
      "Columns: [timestamp, EREGL]\n",
      "Index: [], 'larger_outliers': Empty DataFrame\n",
      "Columns: [timestamp, EREGL]\n",
      "Index: []}\n",
      "{'smaller_outliers': Empty DataFrame\n",
      "Columns: [timestamp, EREGL]\n",
      "Index: [], 'larger_outliers':                       timestamp    EREGL\n",
      "42908 2018-09-03 11:00:00+00:00  10.1836\n",
      "42909 2018-09-03 11:15:00+00:00  10.2513\n",
      "42910 2018-09-03 11:30:00+00:00  10.2428\n",
      "42911 2018-09-03 11:45:00+00:00  10.1836\n",
      "42912 2018-09-03 12:00:00+00:00  10.2259\n",
      "42913 2018-09-03 12:15:00+00:00  10.2428\n",
      "42914 2018-09-03 12:30:00+00:00  10.2766\n",
      "42915 2018-09-03 12:45:00+00:00  10.2259\n",
      "42916 2018-09-03 13:00:00+00:00  10.2005\n",
      "42917 2018-09-03 13:15:00+00:00  10.2090\n",
      "42918 2018-09-03 13:30:00+00:00  10.2174\n",
      "42919 2018-09-03 13:45:00+00:00  10.2513\n",
      "42920 2018-09-03 14:00:00+00:00  10.2090\n",
      "42921 2018-09-03 14:15:00+00:00  10.2005\n",
      "42922 2018-09-03 14:30:00+00:00  10.2090\n",
      "42923 2018-09-03 14:45:00+00:00  10.2682\n",
      "42924 2018-09-03 15:00:00+00:00  10.1921\n",
      "42925 2018-09-04 06:45:00+00:00  10.2259}\n",
      "{'smaller_outliers': Empty DataFrame\n",
      "Columns: [timestamp, EREGL]\n",
      "Index: [], 'larger_outliers': Empty DataFrame\n",
      "Columns: [timestamp, EREGL]\n",
      "Index: []}\n",
      "{'smaller_outliers': Empty DataFrame\n",
      "Columns: [timestamp, EREGL]\n",
      "Index: [], 'larger_outliers': Empty DataFrame\n",
      "Columns: [timestamp, EREGL]\n",
      "Index: []}\n",
      "{'smaller_outliers': Empty DataFrame\n",
      "Columns: [timestamp, EREGL]\n",
      "Index: [], 'larger_outliers': Empty DataFrame\n",
      "Columns: [timestamp, EREGL]\n",
      "Index: []}\n"
     ]
    }
   ],
   "source": [
    "def Func(df,column_name,key):\n",
    "    df_column = df.loc[:,[\"timestamp\",column_name]]\n",
    "    df_column_without_null = df_column.interpolate()\n",
    "    df_column_monthly = df_Monthly(df_column_without_null, key)\n",
    "    return Find_Outliers(df_column_monthly)\n",
    "\n",
    "#print(Func(df_w,column_name = \"CEMAS\", key = (2017,2)))\n",
    "\n",
    "for year in range(2017,2019):\n",
    "     for month in range(1,13):\n",
    "       print(Func(df_w,column_name = \"EREGL\", key = (year,month)))"
   ]
  },
  {
   "cell_type": "code",
   "execution_count": 63,
   "id": "3f8c7172",
   "metadata": {},
   "outputs": [
    {
     "name": "stderr",
     "output_type": "stream",
     "text": [
      "C:\\Users\\EylülRanaSaraç\\AppData\\Local\\Temp\\ipykernel_5620\\4108875329.py:5: UserWarning: marker is redundantly defined by the 'marker' keyword argument and the fmt string \"o\" (-> marker='o'). The keyword argument will take precedence.\n",
      "  plt.plot_date(df_column_monthly[\"timestamp\"], df_column_monthly[column_name],marker = \"None\", linestyle = \"solid\")\n"
     ]
    },
    {
     "data": {
      "image/png": "[encoded data removed]",
      "text/plain": [
       "<Figure size 640x480 with 1 Axes>"
      ]
     },
     "metadata": {},
     "output_type": "display_data"
    }
   ],
   "source": [
    "def Draw_Graph(df,column_name,key):\n",
    "    df_column = df.loc[:,[\"timestamp\",column_name]]\n",
    "    df_column_without_null = df_column.interpolate()\n",
    "    df_column_monthly = df_Monthly(df_column_without_null, key)\n",
    "    plt.plot_date(df_column_monthly[\"timestamp\"], df_column_monthly[column_name],marker = \"None\", linestyle = \"solid\")\n",
    "    plt.gcf().autofmt_xdate()\n",
    "    plt.axhline(y = df_column_monthly[column_name].mean(), color = 'g', linestyle = '--')\n",
    "    plt.axhline(y = df_column_monthly[column_name].mean() + 3*df_column_monthly[column_name].std(), color = 'r', linestyle = '--')\n",
    "    plt.axhline(y = df_column_monthly[column_name].mean() - 3*df_column_monthly[column_name].std(), color = 'r', linestyle = '--')\n",
    "    plt.xlabel(\"Timestamp\")\n",
    "    plt.ylabel(column_name)\n",
    "    save_path = \"EREGL\" # Hisseye göre farklı klasör seç\n",
    "    save_name = f\"{column_name} {key[0]}-{key[1]}\"\n",
    "    plt.savefig(f\"{save_path}/{save_name}.png\", format='png')\n",
    "\n",
    "Draw_Graph(df_w,column_name = \"EREGL\", key = (2018,9)) # Hisse ismi, yıl ve ay gir"
   ]
  }
 ],
 "metadata": {
  "kernelspec": {
   "display_name": "Python 3 (ipykernel)",
   "language": "python",
   "name": "python3"
  },
  "language_info": {
   "codemirror_mode": {
    "name": "ipython",
    "version": 3
   },
   "file_extension": ".py",
   "mimetype": "text/x-python",
   "name": "python",
   "nbconvert_exporter": "python",
   "pygments_lexer": "ipython3",
   "version": "3.12.0"
  }
 },
 "nbformat": 4,
 "nbformat_minor": 5
}
