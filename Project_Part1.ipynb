{
 "cells": [
  {
   "cell_type": "code",
   "execution_count": 8,
   "id": "ecdd33fc",
   "metadata": {},
   "outputs": [],
   "source": [
    "import pandas as pd\n",
    "from matplotlib import pyplot as plt"
   ]
  },
  {
   "cell_type": "code",
   "execution_count": 9,
   "id": "28a5adf9",
   "metadata": {},
   "outputs": [],
   "source": [
    "df_w = pd.read_csv(\"all_ticks_wide.csv\")\n",
    "df_l = pd.read_csv(\"all_ticks_long.csv\")\n",
    "df_w[\"timestamp\"] = pd.to_datetime(df_w[\"timestamp\"])\n",
    "df_w = df_w.sort_values(by=\"timestamp\")"
   ]
  },
  {
   "cell_type": "markdown",
   "id": "4e9fc580",
   "metadata": {},
   "source": [
    "We created the function Is_Null() which takes a dataframe as input, then returns \"True\" if the dataframe has null values, \"False\" otherwise. "
   ]
  },
  {
   "cell_type": "code",
   "execution_count": 10,
   "id": "28814d6a",
   "metadata": {},
   "outputs": [],
   "source": [
    "def Is_Null(df):\n",
    "    if df.isnull().astype(int).iloc[:,1].sum() > 0:\n",
    "        return True\n",
    "    else:\n",
    "        return False"
   ]
  },
  {
   "cell_type": "markdown",
   "id": "cc11f381",
   "metadata": {},
   "source": [
    "Then, we created another function Find_Outliers() which takes a dataframe and returns the outliers if the dataframe doesn't have any null values."
   ]
  },
  {
   "cell_type": "code",
   "execution_count": 11,
   "id": "eb3c63ba",
   "metadata": {},
   "outputs": [],
   "source": [
    "def Find_Outliers(df):\n",
    "        mean = df.iloc[:,1].mean()\n",
    "        std = df.iloc[:,1].std()\n",
    "        upper_limit = mean + 3*std\n",
    "        lower_limit = mean - 3*std\n",
    "        smaller_outliers = df[df.iloc[:,1] < lower_limit]\n",
    "        larger_outliers = df[df.iloc[:,1] > upper_limit]\n",
    "        outliers = {\"smaller_outliers\" : smaller_outliers, \"larger_outliers\" : larger_outliers }\n",
    "        \n",
    "        return outliers"
   ]
  },
  {
   "cell_type": "markdown",
   "id": "e69d99fc",
   "metadata": {},
   "source": [
    "Lastly, we created the function df_Monthly() which takes a dataframe and a key indicating the year and the month key = (year,month), and returns a new dataframe consisting of the values in the original dataframe in that certain month of the year."
   ]
  },
  {
   "cell_type": "code",
   "execution_count": 12,
   "id": "c869701e",
   "metadata": {},
   "outputs": [],
   "source": [
    "def df_Monthly(df, key):\n",
    "    df_Monthly_dictionary = {}\n",
    "    df[\"timestamp\"] = pd.to_datetime(df[\"timestamp\"])\n",
    "    df_yearly = df[\"timestamp\"].dt.year\n",
    "    for i in range(2012,2020):\n",
    "        df_current_year = df.loc[df_yearly == i]\n",
    "        df_current_year_monthly = df_current_year[\"timestamp\"].dt.month\n",
    "        for k in range(1,13):\n",
    "             df_Monthly_dictionary[i,k] = df_current_year.loc[df_current_year_monthly == k]\n",
    "    \n",
    "    return df_Monthly_dictionary.get(key)"
   ]
  },
  {
   "cell_type": "code",
   "execution_count": 13,
   "id": "e0fdf210",
   "metadata": {
    "collapsed": true
   },
   "outputs": [
    {
     "name": "stdout",
     "output_type": "stream",
     "text": [
      "{'smaller_outliers': Empty DataFrame\n",
      "Columns: [timestamp, PETKM]\n",
      "Index: [], 'larger_outliers': Empty DataFrame\n",
      "Columns: [timestamp, PETKM]\n",
      "Index: []}\n",
      "{'smaller_outliers': Empty DataFrame\n",
      "Columns: [timestamp, PETKM]\n",
      "Index: [], 'larger_outliers': Empty DataFrame\n",
      "Columns: [timestamp, PETKM]\n",
      "Index: []}\n",
      "{'smaller_outliers': Empty DataFrame\n",
      "Columns: [timestamp, PETKM]\n",
      "Index: [], 'larger_outliers': Empty DataFrame\n",
      "Columns: [timestamp, PETKM]\n",
      "Index: []}\n",
      "{'smaller_outliers': Empty DataFrame\n",
      "Columns: [timestamp, PETKM]\n",
      "Index: [], 'larger_outliers': Empty DataFrame\n",
      "Columns: [timestamp, PETKM]\n",
      "Index: []}\n",
      "{'smaller_outliers': Empty DataFrame\n",
      "Columns: [timestamp, PETKM]\n",
      "Index: [], 'larger_outliers': Empty DataFrame\n",
      "Columns: [timestamp, PETKM]\n",
      "Index: []}\n",
      "{'smaller_outliers': Empty DataFrame\n",
      "Columns: [timestamp, PETKM]\n",
      "Index: [], 'larger_outliers': Empty DataFrame\n",
      "Columns: [timestamp, PETKM]\n",
      "Index: []}\n",
      "{'smaller_outliers': Empty DataFrame\n",
      "Columns: [timestamp, PETKM]\n",
      "Index: [], 'larger_outliers': Empty DataFrame\n",
      "Columns: [timestamp, PETKM]\n",
      "Index: []}\n",
      "{'smaller_outliers':                       timestamp   PETKM\n",
      "34718 2017-08-16 08:00:00+00:00  3.9746, 'larger_outliers': Empty DataFrame\n",
      "Columns: [timestamp, PETKM]\n",
      "Index: []}\n",
      "{'smaller_outliers': Empty DataFrame\n",
      "Columns: [timestamp, PETKM]\n",
      "Index: [], 'larger_outliers': Empty DataFrame\n",
      "Columns: [timestamp, PETKM]\n",
      "Index: []}\n",
      "{'smaller_outliers': Empty DataFrame\n",
      "Columns: [timestamp, PETKM]\n",
      "Index: [], 'larger_outliers': Empty DataFrame\n",
      "Columns: [timestamp, PETKM]\n",
      "Index: []}\n",
      "{'smaller_outliers': Empty DataFrame\n",
      "Columns: [timestamp, PETKM]\n",
      "Index: [], 'larger_outliers': Empty DataFrame\n",
      "Columns: [timestamp, PETKM]\n",
      "Index: []}\n",
      "{'smaller_outliers': Empty DataFrame\n",
      "Columns: [timestamp, PETKM]\n",
      "Index: [], 'larger_outliers': Empty DataFrame\n",
      "Columns: [timestamp, PETKM]\n",
      "Index: []}\n",
      "{'smaller_outliers': Empty DataFrame\n",
      "Columns: [timestamp, PETKM]\n",
      "Index: [], 'larger_outliers': Empty DataFrame\n",
      "Columns: [timestamp, PETKM]\n",
      "Index: []}\n",
      "{'smaller_outliers': Empty DataFrame\n",
      "Columns: [timestamp, PETKM]\n",
      "Index: [], 'larger_outliers': Empty DataFrame\n",
      "Columns: [timestamp, PETKM]\n",
      "Index: []}\n",
      "{'smaller_outliers': Empty DataFrame\n",
      "Columns: [timestamp, PETKM]\n",
      "Index: [], 'larger_outliers': Empty DataFrame\n",
      "Columns: [timestamp, PETKM]\n",
      "Index: []}\n",
      "{'smaller_outliers': Empty DataFrame\n",
      "Columns: [timestamp, PETKM]\n",
      "Index: [], 'larger_outliers': Empty DataFrame\n",
      "Columns: [timestamp, PETKM]\n",
      "Index: []}\n",
      "{'smaller_outliers': Empty DataFrame\n",
      "Columns: [timestamp, PETKM]\n",
      "Index: [], 'larger_outliers': Empty DataFrame\n",
      "Columns: [timestamp, PETKM]\n",
      "Index: []}\n",
      "{'smaller_outliers': Empty DataFrame\n",
      "Columns: [timestamp, PETKM]\n",
      "Index: [], 'larger_outliers': Empty DataFrame\n",
      "Columns: [timestamp, PETKM]\n",
      "Index: []}\n",
      "{'smaller_outliers': Empty DataFrame\n",
      "Columns: [timestamp, PETKM]\n",
      "Index: [], 'larger_outliers': Empty DataFrame\n",
      "Columns: [timestamp, PETKM]\n",
      "Index: []}\n",
      "{'smaller_outliers': Empty DataFrame\n",
      "Columns: [timestamp, PETKM]\n",
      "Index: [], 'larger_outliers': Empty DataFrame\n",
      "Columns: [timestamp, PETKM]\n",
      "Index: []}\n",
      "{'smaller_outliers': Empty DataFrame\n",
      "Columns: [timestamp, PETKM]\n",
      "Index: [], 'larger_outliers':                       timestamp   PETKM\n",
      "43305 2018-09-19 14:15:00+00:00  4.5938\n",
      "43306 2018-09-19 14:30:00+00:00  4.5938\n",
      "43307 2018-09-19 14:45:00+00:00  4.6250\n",
      "43308 2018-09-19 15:00:00+00:00  4.6172}\n",
      "{'smaller_outliers': Empty DataFrame\n",
      "Columns: [timestamp, PETKM]\n",
      "Index: [], 'larger_outliers': Empty DataFrame\n",
      "Columns: [timestamp, PETKM]\n",
      "Index: []}\n",
      "{'smaller_outliers': Empty DataFrame\n",
      "Columns: [timestamp, PETKM]\n",
      "Index: [], 'larger_outliers': Empty DataFrame\n",
      "Columns: [timestamp, PETKM]\n",
      "Index: []}\n",
      "{'smaller_outliers': Empty DataFrame\n",
      "Columns: [timestamp, PETKM]\n",
      "Index: [], 'larger_outliers': Empty DataFrame\n",
      "Columns: [timestamp, PETKM]\n",
      "Index: []}\n"
     ]
    }
   ],
   "source": [
    "def Func(df,column_name,key):\n",
    "    df_column = df.loc[:,[\"timestamp\",column_name]]\n",
    "    df_column_without_null = df_column.interpolate()\n",
    "    df_column_monthly = df_Monthly(df_column_without_null, key)\n",
    "    return Find_Outliers(df_column_monthly)\n",
    "\n",
    "#print(Func(df_w,column_name = \"CEMAS\", key = (2017,2)))\n",
    "\n",
    "for year in range(2017,2019):\n",
    "     for month in range(1,13):\n",
    "       print(Func(df_w,column_name = \"PETKM\", key = (year,month)))"
   ]
  },
  {
   "cell_type": "code",
   "execution_count": 3,
   "id": "3f8c7172",
   "metadata": {},
   "outputs": [
    {
     "ename": "NameError",
     "evalue": "name 'df_w' is not defined",
     "output_type": "error",
     "traceback": [
      "\u001b[1;31m---------------------------------------------------------------------------\u001b[0m",
      "\u001b[1;31mNameError\u001b[0m                                 Traceback (most recent call last)",
      "\u001b[1;32mc:\\Users\\EylülRanaSaraç\\OneDrive - boun.edu.tr\\Masaüstü\\project part 1\\golden-girlz\\Project_Part1.ipynb Cell 10\u001b[0m line \u001b[0;36m1\n\u001b[0;32m     <a href='vscode-notebook-cell:/c%3A/Users/Eyl%C3%BClRanaSara%C3%A7/OneDrive%20-%20boun.edu.tr/Masa%C3%BCst%C3%BC/project%20part%201/golden-girlz/Project_Part1.ipynb#X12sZmlsZQ%3D%3D?line=9'>10</a>\u001b[0m     plt\u001b[39m.\u001b[39mxlabel(\u001b[39m\"\u001b[39m\u001b[39mTimestamp\u001b[39m\u001b[39m\"\u001b[39m)\n\u001b[0;32m     <a href='vscode-notebook-cell:/c%3A/Users/Eyl%C3%BClRanaSara%C3%A7/OneDrive%20-%20boun.edu.tr/Masa%C3%BCst%C3%BC/project%20part%201/golden-girlz/Project_Part1.ipynb#X12sZmlsZQ%3D%3D?line=10'>11</a>\u001b[0m     plt\u001b[39m.\u001b[39mylabel(column_name) \n\u001b[1;32m---> <a href='vscode-notebook-cell:/c%3A/Users/Eyl%C3%BClRanaSara%C3%A7/OneDrive%20-%20boun.edu.tr/Masa%C3%BCst%C3%BC/project%20part%201/golden-girlz/Project_Part1.ipynb#X12sZmlsZQ%3D%3D?line=12'>13</a>\u001b[0m Draw_Graph(df_w,column_name \u001b[39m=\u001b[39m \u001b[39m\"\u001b[39m\u001b[39mPETKM\u001b[39m\u001b[39m\"\u001b[39m, key \u001b[39m=\u001b[39m (\u001b[39m2018\u001b[39m,\u001b[39m7\u001b[39m))\n",
      "\u001b[1;31mNameError\u001b[0m: name 'df_w' is not defined"
     ]
    }
   ],
   "source": [
    "def Draw_Graph(df,column_name,key):\n",
    "    df_column = df.loc[:,[\"timestamp\",column_name]]\n",
    "    df_column_without_null = df_column.interpolate()\n",
    "    df_column_monthly = df_Monthly(df_column_without_null, key)\n",
    "    plt.plot_date(df_column_monthly[\"timestamp\"], df_column_monthly[column_name],marker = \"None\", linestyle = \"solid\")\n",
    "    plt.gcf().autofmt_xdate()\n",
    "    plt.axhline(y = df_column_monthly[column_name].mean(), color = 'g', linestyle = '--')\n",
    "    plt.axhline(y = df_column_monthly[column_name].mean() + 3*df_column_monthly[column_name].std(), color = 'r', linestyle = '--')\n",
    "    plt.axhline(y = df_column_monthly[column_name].mean() - 3*df_column_monthly[column_name].std(), color = 'r', linestyle = '--')\n",
    "    plt.xlabel(\"Timestamp\")\n",
    "    plt.ylabel(column_name) \n",
    "\n",
    "Draw_Graph(df_w,column_name = \"PETKM\", key = (2018,7))"
   ]
  }
 ],
 "metadata": {
  "kernelspec": {
   "display_name": "Python 3 (ipykernel)",
   "language": "python",
   "name": "python3"
  },
  "language_info": {
   "codemirror_mode": {
    "name": "ipython",
    "version": 3
   },
   "file_extension": ".py",
   "mimetype": "text/x-python",
   "name": "python",
   "nbconvert_exporter": "python",
   "pygments_lexer": "ipython3",
   "version": "3.12.0"
  }
 },
 "nbformat": 4,
 "nbformat_minor": 5
}
