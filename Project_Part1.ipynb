{
 "cells": [
  {
   "cell_type": "code",
   "execution_count": 23,
   "id": "ecdd33fc",
   "metadata": {},
   "outputs": [],
   "source": [
    "import pandas as pd\n",
    "from matplotlib import pyplot as plt"
   ]
  },
  {
   "cell_type": "code",
   "execution_count": 24,
   "id": "28a5adf9",
   "metadata": {},
   "outputs": [],
   "source": [
    "df_w = pd.read_csv(\"all_ticks_wide.csv\")\n",
    "df_l = pd.read_csv(\"all_ticks_long.csv\")\n",
    "df_w[\"timestamp\"] = pd.to_datetime(df_w[\"timestamp\"])\n",
    "df_w = df_w.sort_values(by=\"timestamp\")"
   ]
  },
  {
   "cell_type": "markdown",
   "id": "4e9fc580",
   "metadata": {},
   "source": [
    "We created the function Is_Null() which takes a dataframe as input, then returns \"True\" if the dataframe has null values, \"False\" otherwise. "
   ]
  },
  {
   "cell_type": "code",
   "execution_count": 25,
   "id": "28814d6a",
   "metadata": {},
   "outputs": [],
   "source": [
    "def Is_Null(df):\n",
    "    if df.isnull().astype(int).iloc[:,1].sum() > 0:\n",
    "        return True\n",
    "    else:\n",
    "        return False"
   ]
  },
  {
   "cell_type": "markdown",
   "id": "cc11f381",
   "metadata": {},
   "source": [
    "Then, we created another function Find_Outliers() which takes a dataframe and returns the outliers if the dataframe doesn't have any null values."
   ]
  },
  {
   "cell_type": "code",
   "execution_count": 26,
   "id": "eb3c63ba",
   "metadata": {},
   "outputs": [],
   "source": [
    "def Find_Outliers(df):\n",
    "        mean = df.iloc[:,1].mean()\n",
    "        std = df.iloc[:,1].std()\n",
    "        upper_limit = mean + 3*std\n",
    "        lower_limit = mean - 3*std\n",
    "        smaller_outliers = df[df.iloc[:,1] < lower_limit]\n",
    "        larger_outliers = df[df.iloc[:,1] > upper_limit]\n",
    "        outliers = {\"smaller_outliers\" : smaller_outliers, \"larger_outliers\" : larger_outliers }\n",
    "        \n",
    "        return outliers"
   ]
  },
  {
   "cell_type": "markdown",
   "id": "e69d99fc",
   "metadata": {},
   "source": [
    "Lastly, we created the function df_Monthly() which takes a dataframe and a key indicating the year and the month key = (year,month), and returns a new dataframe consisting of the values in the original dataframe in that certain month of the year."
   ]
  },
  {
   "cell_type": "code",
   "execution_count": 27,
   "id": "c869701e",
   "metadata": {},
   "outputs": [],
   "source": [
    "def df_Monthly(df, key):\n",
    "    df_Monthly_dictionary = {}\n",
    "    df[\"timestamp\"] = pd.to_datetime(df[\"timestamp\"])\n",
    "    df_yearly = df[\"timestamp\"].dt.year\n",
    "    for i in range(2012,2020):\n",
    "        df_current_year = df.loc[df_yearly == i]\n",
    "        df_current_year_monthly = df_current_year[\"timestamp\"].dt.month\n",
    "        for k in range(1,13):\n",
    "             df_Monthly_dictionary[i,k] = df_current_year.loc[df_current_year_monthly == k]\n",
    "    \n",
    "    return df_Monthly_dictionary.get(key)"
   ]
  },
  {
   "cell_type": "code",
   "execution_count": 29,
   "id": "e0fdf210",
   "metadata": {
    "collapsed": true
   },
   "outputs": [
    {
     "name": "stdout",
     "output_type": "stream",
     "text": [
      "{'smaller_outliers': Empty DataFrame\n",
      "Columns: [timestamp, FROTO]\n",
      "Index: [], 'larger_outliers': Empty DataFrame\n",
      "Columns: [timestamp, FROTO]\n",
      "Index: []}\n",
      "{'smaller_outliers': Empty DataFrame\n",
      "Columns: [timestamp, FROTO]\n",
      "Index: [], 'larger_outliers': Empty DataFrame\n",
      "Columns: [timestamp, FROTO]\n",
      "Index: []}\n",
      "{'smaller_outliers': Empty DataFrame\n",
      "Columns: [timestamp, FROTO]\n",
      "Index: [], 'larger_outliers': Empty DataFrame\n",
      "Columns: [timestamp, FROTO]\n",
      "Index: []}\n",
      "{'smaller_outliers': Empty DataFrame\n",
      "Columns: [timestamp, FROTO]\n",
      "Index: [], 'larger_outliers': Empty DataFrame\n",
      "Columns: [timestamp, FROTO]\n",
      "Index: []}\n",
      "{'smaller_outliers': Empty DataFrame\n",
      "Columns: [timestamp, FROTO]\n",
      "Index: [], 'larger_outliers': Empty DataFrame\n",
      "Columns: [timestamp, FROTO]\n",
      "Index: []}\n",
      "{'smaller_outliers': Empty DataFrame\n",
      "Columns: [timestamp, FROTO]\n",
      "Index: [], 'larger_outliers': Empty DataFrame\n",
      "Columns: [timestamp, FROTO]\n",
      "Index: []}\n",
      "{'smaller_outliers': Empty DataFrame\n",
      "Columns: [timestamp, FROTO]\n",
      "Index: [], 'larger_outliers': Empty DataFrame\n",
      "Columns: [timestamp, FROTO]\n",
      "Index: []}\n",
      "{'smaller_outliers': Empty DataFrame\n",
      "Columns: [timestamp, FROTO]\n",
      "Index: [], 'larger_outliers': Empty DataFrame\n",
      "Columns: [timestamp, FROTO]\n",
      "Index: []}\n",
      "{'smaller_outliers':                       timestamp    FROTO\n",
      "35568 2017-09-27 13:45:00+00:00  37.3984\n",
      "35570 2017-09-27 14:15:00+00:00  37.3984\n",
      "35571 2017-09-27 14:30:00+00:00  37.3282, 'larger_outliers': Empty DataFrame\n",
      "Columns: [timestamp, FROTO]\n",
      "Index: []}\n",
      "{'smaller_outliers': Empty DataFrame\n",
      "Columns: [timestamp, FROTO]\n",
      "Index: [], 'larger_outliers': Empty DataFrame\n",
      "Columns: [timestamp, FROTO]\n",
      "Index: []}\n",
      "{'smaller_outliers': Empty DataFrame\n",
      "Columns: [timestamp, FROTO]\n",
      "Index: [], 'larger_outliers':                       timestamp    FROTO\n",
      "36519 2017-11-09 07:30:00+00:00  52.1848\n",
      "36520 2017-11-09 07:45:00+00:00  51.8712\n",
      "36521 2017-11-09 08:00:00+00:00  51.7816\n",
      "36522 2017-11-09 08:15:00+00:00  51.7816\n",
      "36536 2017-11-09 12:15:00+00:00  51.7816\n",
      "36537 2017-11-09 12:30:00+00:00  51.7816\n",
      "36538 2017-11-09 12:45:00+00:00  51.7368\n",
      "36543 2017-11-09 14:00:00+00:00  51.7368\n",
      "36544 2017-11-09 14:15:00+00:00  51.7816\n",
      "36546 2017-11-09 14:45:00+00:00  51.8712\n",
      "36547 2017-11-09 15:00:00+00:00  52.2295\n",
      "36548 2017-11-10 06:45:00+00:00  52.2295}\n",
      "{'smaller_outliers': Empty DataFrame\n",
      "Columns: [timestamp, FROTO]\n",
      "Index: [], 'larger_outliers': Empty DataFrame\n",
      "Columns: [timestamp, FROTO]\n",
      "Index: []}\n",
      "{'smaller_outliers': Empty DataFrame\n",
      "Columns: [timestamp, FROTO]\n",
      "Index: [], 'larger_outliers': Empty DataFrame\n",
      "Columns: [timestamp, FROTO]\n",
      "Index: []}\n",
      "{'smaller_outliers': Empty DataFrame\n",
      "Columns: [timestamp, FROTO]\n",
      "Index: [], 'larger_outliers': Empty DataFrame\n",
      "Columns: [timestamp, FROTO]\n",
      "Index: []}\n",
      "{'smaller_outliers': Empty DataFrame\n",
      "Columns: [timestamp, FROTO]\n",
      "Index: [], 'larger_outliers':                       timestamp    FROTO\n",
      "39607 2018-03-28 07:00:00+00:00  59.2622\n",
      "39608 2018-03-28 07:15:00+00:00  59.3518\n",
      "39609 2018-03-28 07:30:00+00:00  59.3069}\n",
      "{'smaller_outliers': Empty DataFrame\n",
      "Columns: [timestamp, FROTO]\n",
      "Index: [], 'larger_outliers': Empty DataFrame\n",
      "Columns: [timestamp, FROTO]\n",
      "Index: []}\n",
      "{'smaller_outliers': Empty DataFrame\n",
      "Columns: [timestamp, FROTO]\n",
      "Index: [], 'larger_outliers': Empty DataFrame\n",
      "Columns: [timestamp, FROTO]\n",
      "Index: []}\n",
      "{'smaller_outliers': Empty DataFrame\n",
      "Columns: [timestamp, FROTO]\n",
      "Index: [], 'larger_outliers':                       timestamp    FROTO\n",
      "41476 2018-06-22 14:45:00+00:00  64.9542\n",
      "41478 2018-06-25 06:45:00+00:00  65.1402\n",
      "41479 2018-06-25 07:00:00+00:00  65.4192}\n",
      "{'smaller_outliers': Empty DataFrame\n",
      "Columns: [timestamp, FROTO]\n",
      "Index: [], 'larger_outliers': Empty DataFrame\n",
      "Columns: [timestamp, FROTO]\n",
      "Index: []}\n",
      "{'smaller_outliers': Empty DataFrame\n",
      "Columns: [timestamp, FROTO]\n",
      "Index: [], 'larger_outliers':                       timestamp    FROTO\n",
      "42881 2018-08-31 12:15:00+00:00  61.0951\n",
      "42882 2018-08-31 12:30:00+00:00  61.0486\n",
      "42884 2018-08-31 13:00:00+00:00  61.8855\n",
      "42885 2018-08-31 13:15:00+00:00  63.9313\n",
      "42886 2018-08-31 13:30:00+00:00  64.3033\n",
      "42887 2018-08-31 13:45:00+00:00  64.9077\n",
      "42888 2018-08-31 14:00:00+00:00  63.7453\n",
      "42889 2018-08-31 14:15:00+00:00  63.2804\n",
      "42890 2018-08-31 14:30:00+00:00  62.6294\n",
      "42891 2018-08-31 14:45:00+00:00  62.2574\n",
      "42892 2018-08-31 15:00:00+00:00  62.2574}\n",
      "{'smaller_outliers': Empty DataFrame\n",
      "Columns: [timestamp, FROTO]\n",
      "Index: [], 'larger_outliers': Empty DataFrame\n",
      "Columns: [timestamp, FROTO]\n",
      "Index: []}\n",
      "{'smaller_outliers': Empty DataFrame\n",
      "Columns: [timestamp, FROTO]\n",
      "Index: [], 'larger_outliers': Empty DataFrame\n",
      "Columns: [timestamp, FROTO]\n",
      "Index: []}\n",
      "{'smaller_outliers': Empty DataFrame\n",
      "Columns: [timestamp, FROTO]\n",
      "Index: [], 'larger_outliers': Empty DataFrame\n",
      "Columns: [timestamp, FROTO]\n",
      "Index: []}\n",
      "{'smaller_outliers': Empty DataFrame\n",
      "Columns: [timestamp, FROTO]\n",
      "Index: [], 'larger_outliers': Empty DataFrame\n",
      "Columns: [timestamp, FROTO]\n",
      "Index: []}\n"
     ]
    }
   ],
   "source": [
    "def Func(df,column_name,key):\n",
    "    df_column = df.loc[:,[\"timestamp\",column_name]]\n",
    "    df_column_without_null = df_column.interpolate()\n",
    "    df_column_monthly = df_Monthly(df_column_without_null, key)\n",
    "    return Find_Outliers(df_column_monthly)\n",
    "\n",
    "#print(Func(df_w,column_name = \"CEMAS\", key = (2017,2)))\n",
    "\n",
    "for year in range(2017,2019):\n",
    "     for month in range(1,13):\n",
    "       print(Func(df_w,column_name = \"FROTO\", key = (year,month)))"
   ]
  },
  {
   "cell_type": "code",
   "execution_count": 31,
   "id": "3f8c7172",
   "metadata": {},
   "outputs": [
    {
     "name": "stderr",
     "output_type": "stream",
     "text": [
      "C:\\Users\\EylülRanaSaraç\\AppData\\Local\\Temp\\ipykernel_5620\\1047857941.py:5: UserWarning: marker is redundantly defined by the 'marker' keyword argument and the fmt string \"o\" (-> marker='o'). The keyword argument will take precedence.\n",
      "  plt.plot_date(df_column_monthly[\"timestamp\"], df_column_monthly[column_name],marker = \"None\", linestyle = \"solid\")\n"
     ]
    },
    {
     "data": {
      "image/png": "[encoded data removed]",
      "text/plain": [
       "<Figure size 640x480 with 1 Axes>"
      ]
     },
     "metadata": {},
     "output_type": "display_data"
    }
   ],
   "source": [
    "def Draw_Graph(df,column_name,key):\n",
    "    df_column = df.loc[:,[\"timestamp\",column_name]]\n",
    "    df_column_without_null = df_column.interpolate()\n",
    "    df_column_monthly = df_Monthly(df_column_without_null, key)\n",
    "    plt.plot_date(df_column_monthly[\"timestamp\"], df_column_monthly[column_name],marker = \"None\", linestyle = \"solid\")\n",
    "    plt.gcf().autofmt_xdate()\n",
    "    plt.axhline(y = df_column_monthly[column_name].mean(), color = 'g', linestyle = '--')\n",
    "    plt.axhline(y = df_column_monthly[column_name].mean() + 3*df_column_monthly[column_name].std(), color = 'r', linestyle = '--')\n",
    "    plt.axhline(y = df_column_monthly[column_name].mean() - 3*df_column_monthly[column_name].std(), color = 'r', linestyle = '--')\n",
    "    plt.xlabel(\"Timestamp\")\n",
    "    plt.ylabel(column_name)\n",
    "    save_path = \"FROTO SP\" # Hisseye göre farklı klasör seç\n",
    "    save_name = f\"{column_name} {key[0]}-{key[1]}\"\n",
    "    plt.savefig(f\"{save_path}/{save_name}.png\", format='png')\n",
    "\n",
    "Draw_Graph(df_w,column_name = \"FROTO\", key = (2017,7)) # Hisse ismi, yıl ve ay gir"
   ]
  }
 ],
 "metadata": {
  "kernelspec": {
   "display_name": "Python 3 (ipykernel)",
   "language": "python",
   "name": "python3"
  },
  "language_info": {
   "codemirror_mode": {
    "name": "ipython",
    "version": 3
   },
   "file_extension": ".py",
   "mimetype": "text/x-python",
   "name": "python",
   "nbconvert_exporter": "python",
   "pygments_lexer": "ipython3",
   "version": "3.12.0"
  }
 },
 "nbformat": 4,
 "nbformat_minor": 5
}
