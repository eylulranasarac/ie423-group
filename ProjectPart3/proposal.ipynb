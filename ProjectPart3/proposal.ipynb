{
 "cells": [
  {
   "cell_type": "markdown",
   "metadata": {},
   "source": [
    "# OUR PROPOSAL TO THE PROBLEM\n",
    "\n",
    "Our approach consists of 3 phases:\n",
    "\n",
    "1- Pre-Pocessing Phase: We greyscale the image and enhance its quality and contrast.\n",
    "\n",
    "2- Segmentation Phase: We apply morphological operations on the enhanced greyscale image to remove the background and unwanted parts. In particular, we perform an erosion process using a specific structural element. Then, we convert the image into binary form with the thresholding method.\n",
    "\n",
    "3- Detection Phase: In the binary image obtained after segmentation, we make the fabric defects clearer using the Wiener filter. We find and mark the largest defect area (ROI) and remove other small areas. In this way, the most important defect stands out clearly."
   ]
  },
  {
   "cell_type": "code",
   "execution_count": 1,
   "metadata": {},
   "outputs": [],
   "source": [
    "import cv2\n",
    "import matplotlib.pyplot as plt\n",
    "import numpy as np\n",
    "from scipy.signal import wiener\n",
    "\n",
    "image_path = \"ProjectPart3\\\\rawimage\\\\0012.jpg\""
   ]
  },
  {
   "cell_type": "markdown",
   "metadata": {},
   "source": [
    "## 1- Pre-Processing Phase"
   ]
  },
  {
   "cell_type": "code",
   "execution_count": 2,
   "metadata": {},
   "outputs": [
    {
     "ename": "error",
     "evalue": "OpenCV(4.8.1) D:\\a\\opencv-python\\opencv-python\\opencv\\modules\\imgproc\\src\\color.cpp:182: error: (-215:Assertion failed) !_src.empty() in function 'cv::cvtColor'\n",
     "output_type": "error",
     "traceback": [
      "\u001b[1;31m---------------------------------------------------------------------------\u001b[0m",
      "\u001b[1;31merror\u001b[0m                                     Traceback (most recent call last)",
      "Cell \u001b[1;32mIn[2], line 4\u001b[0m\n\u001b[0;32m      1\u001b[0m original_image \u001b[38;5;241m=\u001b[39m cv2\u001b[38;5;241m.\u001b[39mimread(image_path)\n\u001b[0;32m      3\u001b[0m \u001b[38;5;66;03m# Convert the colored image from BGR to RGB for correct color display with Matplotlib\u001b[39;00m\n\u001b[1;32m----> 4\u001b[0m colored_image \u001b[38;5;241m=\u001b[39m \u001b[43mcv2\u001b[49m\u001b[38;5;241;43m.\u001b[39;49m\u001b[43mcvtColor\u001b[49m\u001b[43m(\u001b[49m\u001b[43moriginal_image\u001b[49m\u001b[43m,\u001b[49m\u001b[43m \u001b[49m\u001b[43mcv2\u001b[49m\u001b[38;5;241;43m.\u001b[39;49m\u001b[43mCOLOR_BGR2RGB\u001b[49m\u001b[43m)\u001b[49m\n\u001b[0;32m      6\u001b[0m grayscale_image \u001b[38;5;241m=\u001b[39m cv2\u001b[38;5;241m.\u001b[39mimread(image_path, cv2\u001b[38;5;241m.\u001b[39mIMREAD_GRAYSCALE)\n\u001b[0;32m      8\u001b[0m \u001b[38;5;66;03m# enhance image quality with reducing noice\u001b[39;00m\n",
      "\u001b[1;31merror\u001b[0m: OpenCV(4.8.1) D:\\a\\opencv-python\\opencv-python\\opencv\\modules\\imgproc\\src\\color.cpp:182: error: (-215:Assertion failed) !_src.empty() in function 'cv::cvtColor'\n"
     ]
    }
   ],
   "source": [
    "original_image = cv2.imread(image_path)\n",
    "\n",
    "# Convert the colored image from BGR to RGB for correct color display with Matplotlib\n",
    "colored_image = cv2.cvtColor(original_image, cv2.COLOR_BGR2RGB)\n",
    "\n",
    "grayscale_image = cv2.imread(image_path, cv2.IMREAD_GRAYSCALE)\n",
    "\n",
    "# enhance image quality with reducing noice\n",
    "blurred_image = cv2.GaussianBlur(grayscale_image, (5, 5), 0)\n",
    "\n",
    "# sharpening\n",
    "sharpening_kernel = np.array([[-1,-1,-1], [-1,9,-1], [-1,-1,-1]])\n",
    "sharpened_image = cv2.filter2D(blurred_image, -1, sharpening_kernel)\n",
    "\n",
    "# enhance contrast with histogram equalization\n",
    "equalized_image = cv2.equalizeHist(sharpened_image)"
   ]
  },
  {
   "cell_type": "code",
   "execution_count": null,
   "metadata": {},
   "outputs": [],
   "source": [
    "# Show results\n",
    "plt.figure(figsize=(12, 12))\n",
    "plt.subplot(2, 5, 1)\n",
    "plt.imshow(colored_image)\n",
    "plt.title('Original Image')\n",
    "plt.axis('off')\n",
    "\n",
    "plt.subplot(2, 5, 2)\n",
    "plt.imshow(grayscale_image, cmap='gray')\n",
    "plt.title('Grayscale Image')\n",
    "plt.axis('off')\n",
    "\n",
    "plt.subplot(2, 5, 3)\n",
    "plt.imshow(blurred_image, cmap='gray')\n",
    "plt.title('Blurred Image')\n",
    "plt.axis('off')\n",
    "\n",
    "plt.subplot(2, 5, 4)\n",
    "plt.imshow(sharpened_image, cmap='gray')\n",
    "plt.title('Sharpened Image')\n",
    "plt.axis('off')\n",
    "\n",
    "plt.subplot(2, 5, 5)\n",
    "plt.imshow(equalized_image, cmap='gray')\n",
    "plt.title('Equalized Image')\n",
    "plt.axis('off')\n",
    "\n",
    "#plt.show()"
   ]
  },
  {
   "cell_type": "markdown",
   "metadata": {},
   "source": [
    "## 2- Segmentation Phase"
   ]
  },
  {
   "cell_type": "code",
   "execution_count": null,
   "metadata": {},
   "outputs": [],
   "source": [
    "### MORPHOLOGICAL EROSION\n",
    "\n",
    "# Define a vertical line structuring element\n",
    "kernel = np.array([[0, 1, 0], \n",
    "                   [0, 1, 0], \n",
    "                   [0, 1, 0]], dtype=np.uint8)\n",
    "\n",
    "eroded_image = cv2.erode(equalized_image, kernel)\n",
    "\n",
    "### THRESHOLDING\n",
    "\n",
    "threshold_value = 0.5 * 255  # Adjusting the threshold value to the scale of [0, 255]\n",
    "_, binary_image = cv2.threshold(eroded_image, threshold_value, 255, cv2.THRESH_BINARY)\n",
    "\n",
    "# Labeling\n",
    "num_labels, labels, stats, centroids = cv2.connectedComponentsWithStats(binary_image, 8, cv2.CV_32S)\n",
    "\n",
    "# Ignoring small objects (less than 4 pixels)\n",
    "min_pixel_size = 4\n",
    "for label in range(1, num_labels):\n",
    "    if stats[label, cv2.CC_STAT_AREA] < min_pixel_size:\n",
    "        binary_image[labels == label] = 0\n",
    "\n",
    "plt.subplot(2, 5, 7)\n",
    "plt.imshow(binary_image, cmap='gray')\n",
    "plt.title(\"Segmented Image\")\n",
    "plt.axis('off')\n",
    "#plt.show()"
   ]
  },
  {
   "cell_type": "markdown",
   "metadata": {},
   "source": [
    "## 3- Detection Phase"
   ]
  },
  {
   "cell_type": "code",
   "execution_count": null,
   "metadata": {},
   "outputs": [],
   "source": [
    "# Apply Wiener Filter\n",
    "filtered_image = wiener(binary_image, (1, 1))\n",
    "\n",
    "# Find contours (ROIs) in the filtered image\n",
    "contours, _ = cv2.findContours(filtered_image.astype(np.uint8), cv2.RETR_EXTERNAL, cv2.CHAIN_APPROX_SIMPLE)\n",
    "\n",
    "# Identify the largest contour (ROI)\n",
    "largest_contour = max(contours, key=cv2.contourArea)\n",
    "\n",
    "# Create an empty image to draw the largest ROI\n",
    "output_image = np.zeros_like(binary_image)\n",
    "cv2.drawContours(output_image, [largest_contour], -1, (255, 255, 255), thickness=cv2.FILLED)\n",
    "\n",
    "# Display the results using matplotlib\n",
    "\n",
    "plt.subplot(2, 5, 8)\n",
    "plt.imshow(output_image, cmap='gray')\n",
    "plt.title(\"Detected Fabric Defect\")\n",
    "plt.axis('off')\n",
    "\n",
    "plt.subplots_adjust(hspace=0)\n",
    "plt.show()"
   ]
  }
 ],
 "metadata": {
  "kernelspec": {
   "display_name": "Python 3",
   "language": "python",
   "name": "python3"
  },
  "language_info": {
   "codemirror_mode": {
    "name": "ipython",
    "version": 3
   },
   "file_extension": ".py",
   "mimetype": "text/x-python",
   "name": "python",
   "nbconvert_exporter": "python",
   "pygments_lexer": "ipython3",
   "version": "3.12.0"
  }
 },
 "nbformat": 4,
 "nbformat_minor": 2
}
