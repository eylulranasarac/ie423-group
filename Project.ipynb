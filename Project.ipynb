{
 "cells": [
  {
   "cell_type": "code",
   "execution_count": 1,
   "id": "ecdd33fc",
   "metadata": {},
   "outputs": [],
   "source": [
    "import pandas as pd\n",
    "from matplotlib import pyplot as plt"
   ]
  },
  {
   "cell_type": "markdown",
   "id": "38c8d980",
   "metadata": {},
   "source": [
    "After importing the necessary libraries, we read the wide format of the csv file into a Pandas DataFrame we created called \"df_w\". Then, we converted \"timestamp\" column, which is an object column to datetime format by using pd.to_datetime() function. Lastly, we sorted the rows of df_w according the \"timestamp\" column in ascending order. "
   ]
  },
  {
   "cell_type": "code",
   "execution_count": 2,
   "id": "28a5adf9",
   "metadata": {},
   "outputs": [],
   "source": [
    "df_w = pd.read_csv(\"all_ticks_wide.csv\")\n",
    "df_w[\"timestamp\"] = pd.to_datetime(df_w[\"timestamp\"])\n",
    "df_w = df_w.sort_values(by=\"timestamp\")"
   ]
  },
  {
   "cell_type": "markdown",
   "id": "cc11f381",
   "metadata": {},
   "source": [
    "Then, we created a function called Find_Outliers() which returns the outliers of a given dataframe. The function takes a dataframe of two columns as input, one being the \"timestamp\" and other being the column we want to find outliers of, finds the outliers for the second column by first calculating the mean and standart deviation, then creating the lower and upper 3-sigma limits by a simple formula, then iterating through the second column of the dataframe to find values that are higher than the upper limit or lower than the lower limit, lastly, it returns a dictionary called \"outliers\" which includes both lower and higher outliers. "
   ]
  },
  {
   "cell_type": "code",
   "execution_count": 3,
   "id": "eb3c63ba",
   "metadata": {},
   "outputs": [],
   "source": [
    "def Find_Outliers(df):\n",
    "        mean = df.iloc[:,1].mean()\n",
    "        std = df.iloc[:,1].std()\n",
    "        upper_limit = mean + 3*std\n",
    "        lower_limit = mean - 3*std\n",
    "        lower_outliers = df[df.iloc[:,1] < lower_limit]\n",
    "        higher_outliers = df[df.iloc[:,1] > upper_limit]\n",
    "        outliers = {\"lower_outliers\" : lower_outliers, \"higher_outliers\" : higher_outliers }\n",
    "        \n",
    "        return outliers"
   ]
  },
  {
   "cell_type": "markdown",
   "id": "f0e09211",
   "metadata": {},
   "source": [
    "Since we need to calculate the monthly outliers, we had to divide df_w into monthly dataframes. So, we created a new function called \"Monthly_Data\" which takes a dataframe, and a tuple key that indicates the exact year and month of that dataframe is needed as input, and returns the new dataframe. For instance, when the function is called as Monthly_Data(df = df_w, key = (2017,3)), it will return a new dataframe consisting of all the columns in df_w in 3rd month of 2017."
   ]
  },
  {
   "cell_type": "code",
   "execution_count": 4,
   "id": "c869701e",
   "metadata": {},
   "outputs": [],
   "source": [
    "def Monthly_Data(df, key):\n",
    "    df_Monthly_dictionary = {}\n",
    "    df[\"timestamp\"] = pd.to_datetime(df[\"timestamp\"])\n",
    "    df_yearly = df[\"timestamp\"].dt.year\n",
    "    for i in range(2012,2020):\n",
    "        df_current_year = df.loc[df_yearly == i]\n",
    "        df_current_year_monthly = df_current_year[\"timestamp\"].dt.month\n",
    "        for k in range(1,13):\n",
    "             df_Monthly_dictionary[i,k] = df_current_year.loc[df_current_year_monthly == k]\n",
    "    \n",
    "    return df_Monthly_dictionary.get(key)"
   ]
  },
  {
   "cell_type": "markdown",
   "id": "f1455e09",
   "metadata": {},
   "source": [
    "Next, we created the function Find_Outliers_Column_Month() which combines the functions Find_Outliers() and Monthly_Data(). Given the inputs that are a dataframe, column_name, and a key, Find_Outliers_Column_Month() returns a dictionary consisting of all the outliers of the given stock in that certain year and month. For example, when the function is called as Find_Outliers_Column_Month(df = df_w, column_name = \"CEMAS\", key = (2016, 5)), it returns the outliers of the stock data of CEMAS in the 5th month of 2016.\n",
    "\n",
    "As our given data had several null values, we interpolated them by the Pandas DataFrame.interpolate() function. This function fills the null values by taking the average of values before and after the null value."
   ]
  },
  {
   "cell_type": "code",
   "execution_count": 8,
   "id": "e0fdf210",
   "metadata": {
    "scrolled": true
   },
   "outputs": [
    {
     "data": {
      "text/plain": [
       "{'lower_outliers': Empty DataFrame\n",
       " Columns: [timestamp, CEMAS]\n",
       " Index: [],\n",
       " 'higher_outliers':                       timestamp  CEMAS\n",
       " 30467 2017-02-02 06:45:00+00:00   1.73}"
      ]
     },
     "execution_count": 8,
     "metadata": {},
     "output_type": "execute_result"
    }
   ],
   "source": [
    "def Find_Outliers_Column_Month(df,column_name,key):\n",
    "    df_column = df.loc[:,[\"timestamp\",column_name]]\n",
    "    df_column_without_null = df_column.interpolate()\n",
    "    df_column_monthly = Monthly_Data(df_column_without_null, key)\n",
    "    return Find_Outliers(df_column_monthly)\n",
    "\n",
    "# Find_Outliers_Column_Month(df_w,column_name = \"CEMAS\", key = (2017,2))"
   ]
  },
  {
   "cell_type": "markdown",
   "id": "6793782f",
   "metadata": {},
   "source": [
    "Lastly, we created the function Create_Graph that takes a dataframe, column_name, and a key as input, and creates a line graph of the given stock at the given year and month. For instance, if the function is called as Create_Graph(df_w,column_name = \"YATAS\", key = (2017,9)), it draws a line graph in which has the values of CEMAS in 9th month of 2017 on y-axis, and \"timestamp\" on the x-axis. We also added three dotted lines on each graph, the green one representing the mean of the values, and the red ones representing the 3-sigma limits. "
   ]
  },
  {
   "cell_type": "code",
   "execution_count": 6,
   "id": "eca7fef1",
   "metadata": {},
   "outputs": [],
   "source": [
    "def Create_Graph(df,column_name,key):\n",
    "    df_column = df.loc[:,[\"timestamp\",column_name]]\n",
    "    df_column_without_null = df_column.interpolate()\n",
    "    df_column_monthly = Monthly_Data(df_column_without_null, key)\n",
    "    plt.plot_date(df_column_monthly[\"timestamp\"], df_column_monthly[column_name],fmt=\",-\")\n",
    "    plt.gcf().autofmt_xdate()\n",
    "    plt.axhline(y = df_column_monthly[column_name].mean(), color = 'g', linestyle = '--')\n",
    "    plt.axhline(y = df_column_monthly[column_name].mean() + 3*df_column_monthly[column_name].std(), color = 'r', linestyle = '--')\n",
    "    plt.axhline(y = df_column_monthly[column_name].mean() - 3*df_column_monthly[column_name].std(), color = 'r', linestyle = '--')\n",
    "    plt.xlabel(\"Timestamp\")\n",
    "    plt.ylabel(column_name) \n",
    "\n",
    "#Create_Graph(df_w,column_name = \"CEMAS\", key = (2018,3))"
   ]
  },
  {
   "cell_type": "code",
   "execution_count": 7,
   "id": "3985ed78",
   "metadata": {},
   "outputs": [],
   "source": [
    "def Create_Multiple_Graphs(df,column_name, year):\n",
    "    df_column = df.loc[:,[\"timestamp\",column_name]]\n",
    "    df_column_without_null = df_column.interpolate()\n",
    "    \n",
    "    fig, ax_array = plt.subplots(nrows=3, ncols=4, figsize=(20, 16))\n",
    "    \n",
    "    i = 1\n",
    "   \n",
    "    for ax in ax_array.flatten():\n",
    "        key = (year,i)\n",
    "        df_column_monthly = Monthly_Data(df_column_without_null, key)\n",
    "        ax.plot_date(df_column_monthly[\"timestamp\"], df_column_monthly[column_name],fmt=\",-\")\n",
    "        \n",
    "        ax.axhline(y = df_column_monthly[column_name].mean(), color = 'g', linestyle = '--')\n",
    "        ax.axhline(y = df_column_monthly[column_name].mean() + 3*df_column_monthly[column_name].std(), color = 'r', linestyle = '--')\n",
    "        ax.axhline(y = df_column_monthly[column_name].mean() - 3*df_column_monthly[column_name].std(), color = 'r', linestyle = '--')\n",
    "        \n",
    "        ax.set_xlabel(\"Timestamp\")\n",
    "        ax.set_ylabel(column_name)\n",
    "        \n",
    "        ax.set_xticks(ax.get_xticks())  \n",
    "        ax.set_xticklabels(ax.get_xticklabels(), rotation=30, ha='right')  \n",
    "\n",
    "        i = i + 1\n",
    "    \n",
    "\n",
    "#Create_Multiple_Graphs(df_w,column_name = \"CEMAS\", year = 2017)"
   ]
  },
  {
   "attachments": {
    "P18-8.png": {
     "image/png": "[encoded data removed]"
    }
   },
   "cell_type": "markdown",
   "metadata": {},
   "source": [
    "# ANALYSIS OF STOCK PRICES\n",
    "We analyzed PETKM, EREGL and FROTO shares over a 25-month period from June 2017 to July 2019. With the functions we introduced above, we specifically investigated the dates when the share values took outlier values and tried to identify the reasons. In addition, we also analyzed the Google Trends data associated with the shares and tried to show the parallels with the share values.\n",
    "\n",
    "## PETKM\n",
    "Petkim is a leading petrochemical company in Turkey that produces a wide range of basic petrochemical products. Established in 1965, it supplies raw materials for various industries, including plastics, detergents, textiles, construction, automotive, electronics, packaging, paint, cosmetics, and agriculture. Its product line includes polyethylene, polypropylene, PVC (polyvinyl chloride), raw materials for detergents, various solvents, and other chemical substances. Petkim operates Turkey's first and only integrated petrochemical complex located in Aliağa, Izmir, and markets its products domestically and internationally.\n",
    "\n",
    "16.08.2017\n",
    "\n",
    "![P18-8.png](attachment:P18-8.png)\n",
    "\n",
    "On the same day that the share price fell, news broke that the Petrol-Is Union demanded the reinstatement of dismissed employees at Petkim. Stating that the attitudes and behavior of some Petkim executives should be reviewed, the union said that it was unlawful to dismiss without just cause. The fact that the company was subjected to such criticism by the union must have lowered its reputation in the eyes of the public, which in turn lowered its share prices.\n",
    "[https://uzmanpara.milliyet.com.tr/raporlar-analizler/petrol-is-sendikasi--petkimde-is-akitleri-fesh-edilenlerin-ise-iadesini-talep-etti/926460/]\n"
   ]
  }
 ],
 "metadata": {
  "kernelspec": {
   "display_name": "Python 3 (ipykernel)",
   "language": "python",
   "name": "python3"
  },
  "language_info": {
   "codemirror_mode": {
    "name": "ipython",
    "version": 3
   },
   "file_extension": ".py",
   "mimetype": "text/x-python",
   "name": "python",
   "nbconvert_exporter": "python",
   "pygments_lexer": "ipython3",
   "version": "3.12.0"
  }
 },
 "nbformat": 4,
 "nbformat_minor": 5
}
